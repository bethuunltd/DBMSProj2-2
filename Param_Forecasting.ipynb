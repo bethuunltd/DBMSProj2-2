{
  "nbformat": 4,
  "nbformat_minor": 0,
  "metadata": {
    "colab": {
      "provenance": [],
      "gpuType": "T4",
      "include_colab_link": true
    },
    "kernelspec": {
      "name": "python3",
      "display_name": "Python 3"
    },
    "language_info": {
      "name": "python"
    },
    "accelerator": "GPU"
  },
  "cells": [
    {
      "cell_type": "markdown",
      "metadata": {
        "id": "view-in-github",
        "colab_type": "text"
      },
      "source": [
        "<a href=\"https://colab.research.google.com/github/bethuunltd/DBMSProj2-2/blob/main/Param_Forecasting.ipynb\" target=\"_parent\"><img src=\"https://colab.research.google.com/assets/colab-badge.svg\" alt=\"Open In Colab\"/></a>"
      ]
    },
    {
      "cell_type": "code",
      "execution_count": 1,
      "metadata": {
        "id": "3zyRBwxim73X"
      },
      "outputs": [],
      "source": [
        "import numpy as np\n",
        "import torch\n",
        "import pandas as pd\n",
        "from sklearn.preprocessing import MinMaxScaler\n",
        "from torch.utils.data import TensorDataset, DataLoader\n",
        "import torch.nn as nn\n",
        "import matplotlib.pyplot as plt\n"
      ]
    },
    {
      "cell_type": "code",
      "source": [
        "df = pd.read_csv('data.csv')\n",
        "df['date'] = pd.to_datetime(df['date'])\n",
        "df.set_index('date')\n",
        "print(df['date'])\n",
        "parameter = df[['ws']]\n",
        "lookback = 10\n",
        "horizon = 5\n",
        "\n",
        "scaler = MinMaxScaler()\n",
        "\n",
        "train_len = 0.7*len(parameter)\n",
        "val_len = 0.2*len(parameter)\n",
        "\n",
        "train = parameter[:int(train_len)]\n",
        "val = parameter[int(train_len):int(train_len+val_len)]\n",
        "test = parameter[int(train_len+val_len):]\n",
        "\n",
        "\n",
        "#The scaler has no cross-contamination between features.\n",
        "train_scaled = scaler.fit_transform(train)\n",
        "val_scaled = scaler.transform(val)\n",
        "test_scaled = scaler.transform(test)\n",
        "\n",
        "train_scaled.shape,val_scaled.shape,test_scaled.shape\n",
        "\n",
        "\n",
        "\n",
        "\n",
        "\n"
      ],
      "metadata": {
        "colab": {
          "base_uri": "https://localhost:8080/"
        },
        "id": "63XsHKB8oGWI",
        "outputId": "d6fa6575-7c80-43ca-9875-0bcb7b10cf15"
      },
      "execution_count": 3,
      "outputs": [
        {
          "output_type": "stream",
          "name": "stdout",
          "text": [
            "0       2016-01-01 00:00:00\n",
            "1       2016-01-01 01:00:00\n",
            "2       2016-01-01 02:00:00\n",
            "3       2016-01-01 03:00:00\n",
            "4       2016-01-01 04:00:00\n",
            "                ...        \n",
            "44683   2021-02-04 19:00:00\n",
            "44684   2021-02-04 20:00:00\n",
            "44685   2021-02-04 21:00:00\n",
            "44686   2021-02-04 22:00:00\n",
            "44687   2021-02-04 23:00:00\n",
            "Name: date, Length: 44688, dtype: datetime64[ns]\n"
          ]
        },
        {
          "output_type": "execute_result",
          "data": {
            "text/plain": [
              "((31281, 1), (8938, 1), (4469, 1))"
            ]
          },
          "metadata": {},
          "execution_count": 3
        }
      ]
    },
    {
      "cell_type": "code",
      "source": [
        "def create_sequences(data,lookback,horizon):\n",
        "  X,y = [],[]\n",
        "  for i in range(len(data)-lookback-horizon):\n",
        "    X.append(data[i:i+lookback])\n",
        "    y.append(data[i+lookback:i+lookback+horizon])#Starts from the last datapoint of X, and goes \"horizon\" days more.\n",
        "  return np.array(X),np.array(y)\n",
        "\n",
        "\n",
        "X_train,y_train = create_sequences(train_scaled,lookback,horizon)\n",
        "X_val,y_val = create_sequences(val_scaled,lookback,horizon)\n",
        "X_test,y_test = create_sequences(test_scaled,lookback,horizon)\n",
        "X_train = torch.from_numpy(X_train).float()\n",
        "y_train = torch.from_numpy(y_train).float()\n",
        "X_val = torch.from_numpy(X_val).float()\n",
        "y_val = torch.from_numpy(y_val).float()\n",
        "X_test = torch.from_numpy(X_test).float()\n",
        "y_test = torch.from_numpy(y_test).float()\n",
        "\n"
      ],
      "metadata": {
        "id": "nhDa1xd3eFMC"
      },
      "execution_count": 4,
      "outputs": []
    },
    {
      "cell_type": "code",
      "source": [
        "class forecast_LSTM(nn.Module):\n",
        "  def __init__(self,input_size =1,hidden_size = 64, num_layers=2,horizon = 5,dropout=0.3):\n",
        "    super().__init__()\n",
        "    self.horizon = horizon\n",
        "    self.input_size = input_size\n",
        "    self.num_layers = num_layers\n",
        "    self.hidden_size = hidden_size\n",
        "    self.lstm = nn.LSTM(input_size,hidden_size,num_layers,batch_first=True,dropout=0.3)\n",
        "    self.fc = nn.Linear(hidden_size,horizon*input_size)\n",
        "\n",
        "\n",
        "\n",
        "  def forward(self,x):\n",
        "     h0 = torch.zeros(self.num_layers,x.size(0),self.hidden_size)\n",
        "     c0 = torch.zeros(self.num_layers,x.size(0),self.hidden_size)\n",
        "     out,_  = self.lstm(x,(h0,c0))\n",
        "     out = self.fc(out[:,-1,:])\n",
        "     out = out.view(-1,self.horizon,self.input_size)\n",
        "     return out\n",
        "\n",
        "#model = forecast_LSTM()\n",
        "\n",
        "#criterion =  nn.MSELoss()\n",
        "#optimizer = torch.optim.Adam(model.parameters(),lr=0.005)\n",
        "\n",
        "\n"
      ],
      "metadata": {
        "id": "inGLzTOXgqoI"
      },
      "execution_count": 5,
      "outputs": []
    },
    {
      "cell_type": "code",
      "source": [
        "epochs = 80\n",
        "train_set = TensorDataset(X_train,y_train)\n",
        "train_loader = DataLoader(train_set,batch_size=32,shuffle=False,drop_last=True)#Experiment with this to see which gives best evaluation\n",
        "val_set = TensorDataset(X_val,y_val)\n",
        "val_loader = DataLoader(val_set,batch_size = 32,shuffle=False,drop_last = True)\n",
        "test_set = TensorDataset(X_test,y_test)\n",
        "test_loader = DataLoader(test_set,batch_size=32,shuffle=False,drop_last = True)"
      ],
      "metadata": {
        "id": "kkYsdx2lrP_X"
      },
      "execution_count": 6,
      "outputs": []
    },
    {
      "cell_type": "code",
      "source": [
        "class EarlyStopping:\n",
        "  def __init__(self, patience=3,window = 5,min_delta = 0.000001):\n",
        "    self.patience = patience\n",
        "    self.min_delta = min_delta\n",
        "    self.counter = 0\n",
        "    self.best_average = None\n",
        "    self.window = window\n",
        "    self.early_stop = False\n",
        "    self.val_losses = []\n",
        "\n",
        "  def moving_average(self,values):\n",
        "    if len(values) >= self.window:\n",
        "      return np.mean(values[-self.window:])\n",
        "    else: return np.mean(values)\n",
        "\n",
        "  def __call__(self,val_loss):\n",
        "    self.val_losses.append(val_loss)\n",
        "    average = self.moving_average(self.val_losses)\n",
        "    if self.best_average is None:\n",
        "      best_average = average\n",
        "    elif self.best_average-min_delta>=average:\n",
        "      self.best_average = average\n",
        "      self.counter = 0\n",
        "    else:\n",
        "      self.counter +=1\n",
        "      if self.counter >= self.patience:\n",
        "        self.early_stop = True\n",
        "\n"
      ],
      "metadata": {
        "id": "_5Y0Rrwmaao9"
      },
      "execution_count": 7,
      "outputs": []
    },
    {
      "cell_type": "code",
      "source": [
        "\n"
      ],
      "metadata": {
        "id": "z7SL1r6Tte29"
      },
      "execution_count": null,
      "outputs": []
    },
    {
      "cell_type": "code",
      "source": [
        "\n",
        "print(loss)\n",
        "criterion = nn.MSELoss()\n",
        "with torch.no_grad():\n",
        "  model.eval()\n",
        "  losses = []\n",
        "  for X_test,y_test in test_loader:\n",
        "    y_test_pred = model(X_test)\n",
        "    loss = criterion(y_test_pred,y_test)\n",
        "    losses.append(loss.item())"
      ],
      "metadata": {
        "colab": {
          "base_uri": "https://localhost:8080/",
          "height": 1000
        },
        "id": "muj1RmMzkEAy",
        "outputId": "92756861-2d12-4446-ded7-1670015c5120"
      },
      "execution_count": null,
      "outputs": [
        {
          "output_type": "stream",
          "name": "stderr",
          "text": [
            "/usr/local/lib/python3.11/dist-packages/torch/optim/lr_scheduler.py:62: UserWarning: The verbose parameter is deprecated. Please use get_last_lr() to access the learning rate.\n",
            "  warnings.warn(\n",
            "/usr/local/lib/python3.11/dist-packages/torch/nn/modules/loss.py:610: UserWarning: Using a target size (torch.Size([32, 5, 2])) that is different to the input size (torch.Size([32, 6, 2])). This will likely lead to incorrect results due to broadcasting. Please ensure they have the same size.\n",
            "  return F.mse_loss(input, target, reduction=self.reduction)\n"
          ]
        },
        {
          "output_type": "error",
          "ename": "RuntimeError",
          "evalue": "The size of tensor a (6) must match the size of tensor b (5) at non-singleton dimension 1",
          "traceback": [
            "\u001b[0;31m---------------------------------------------------------------------------\u001b[0m",
            "\u001b[0;31mRuntimeError\u001b[0m                              Traceback (most recent call last)",
            "\u001b[0;32m<ipython-input-20-ab891a0a20d1>\u001b[0m in \u001b[0;36m<cell line: 0>\u001b[0;34m()\u001b[0m\n\u001b[0;32m----> 1\u001b[0;31m \u001b[0mmodel\u001b[0m\u001b[0;34m,\u001b[0m\u001b[0mloss\u001b[0m \u001b[0;34m=\u001b[0m \u001b[0mtrain_model\u001b[0m\u001b[0;34m(\u001b[0m\u001b[0;36m64\u001b[0m\u001b[0;34m,\u001b[0m\u001b[0;36m0.005\u001b[0m\u001b[0;34m,\u001b[0m\u001b[0;36m32\u001b[0m\u001b[0;34m)\u001b[0m\u001b[0;34m\u001b[0m\u001b[0;34m\u001b[0m\u001b[0m\n\u001b[0m\u001b[1;32m      2\u001b[0m \u001b[0mprint\u001b[0m\u001b[0;34m(\u001b[0m\u001b[0mloss\u001b[0m\u001b[0;34m)\u001b[0m\u001b[0;34m\u001b[0m\u001b[0;34m\u001b[0m\u001b[0m\n\u001b[1;32m      3\u001b[0m \u001b[0mcriterion\u001b[0m \u001b[0;34m=\u001b[0m \u001b[0mnn\u001b[0m\u001b[0;34m.\u001b[0m\u001b[0mMSELoss\u001b[0m\u001b[0;34m(\u001b[0m\u001b[0;34m)\u001b[0m\u001b[0;34m\u001b[0m\u001b[0;34m\u001b[0m\u001b[0m\n\u001b[1;32m      4\u001b[0m \u001b[0;32mwith\u001b[0m \u001b[0mtorch\u001b[0m\u001b[0;34m.\u001b[0m\u001b[0mno_grad\u001b[0m\u001b[0;34m(\u001b[0m\u001b[0;34m)\u001b[0m\u001b[0;34m:\u001b[0m\u001b[0;34m\u001b[0m\u001b[0;34m\u001b[0m\u001b[0m\n\u001b[1;32m      5\u001b[0m   \u001b[0mmodel\u001b[0m\u001b[0;34m.\u001b[0m\u001b[0meval\u001b[0m\u001b[0;34m(\u001b[0m\u001b[0;34m)\u001b[0m\u001b[0;34m\u001b[0m\u001b[0;34m\u001b[0m\u001b[0m\n",
            "\u001b[0;32m<ipython-input-19-2604516c8927>\u001b[0m in \u001b[0;36mtrain_model\u001b[0;34m(hidden_size, learning_rate, batch_size, epochs)\u001b[0m\n\u001b[1;32m     23\u001b[0m             \u001b[0moptimizer\u001b[0m\u001b[0;34m.\u001b[0m\u001b[0mzero_grad\u001b[0m\u001b[0;34m(\u001b[0m\u001b[0;34m)\u001b[0m\u001b[0;34m\u001b[0m\u001b[0;34m\u001b[0m\u001b[0m\n\u001b[1;32m     24\u001b[0m             \u001b[0my_pred\u001b[0m \u001b[0;34m=\u001b[0m \u001b[0mmodel\u001b[0m\u001b[0;34m(\u001b[0m\u001b[0mX_batch\u001b[0m\u001b[0;34m)\u001b[0m\u001b[0;34m\u001b[0m\u001b[0;34m\u001b[0m\u001b[0m\n\u001b[0;32m---> 25\u001b[0;31m             \u001b[0mloss\u001b[0m \u001b[0;34m=\u001b[0m \u001b[0mcriterion\u001b[0m\u001b[0;34m(\u001b[0m\u001b[0my_pred\u001b[0m\u001b[0;34m,\u001b[0m \u001b[0my_batch\u001b[0m\u001b[0;34m)\u001b[0m\u001b[0;34m\u001b[0m\u001b[0;34m\u001b[0m\u001b[0m\n\u001b[0m\u001b[1;32m     26\u001b[0m             \u001b[0mloss\u001b[0m\u001b[0;34m.\u001b[0m\u001b[0mbackward\u001b[0m\u001b[0;34m(\u001b[0m\u001b[0;34m)\u001b[0m\u001b[0;34m\u001b[0m\u001b[0;34m\u001b[0m\u001b[0m\n\u001b[1;32m     27\u001b[0m             \u001b[0moptimizer\u001b[0m\u001b[0;34m.\u001b[0m\u001b[0mstep\u001b[0m\u001b[0;34m(\u001b[0m\u001b[0;34m)\u001b[0m\u001b[0;34m\u001b[0m\u001b[0;34m\u001b[0m\u001b[0m\n",
            "\u001b[0;32m/usr/local/lib/python3.11/dist-packages/torch/nn/modules/module.py\u001b[0m in \u001b[0;36m_wrapped_call_impl\u001b[0;34m(self, *args, **kwargs)\u001b[0m\n\u001b[1;32m   1737\u001b[0m             \u001b[0;32mreturn\u001b[0m \u001b[0mself\u001b[0m\u001b[0;34m.\u001b[0m\u001b[0m_compiled_call_impl\u001b[0m\u001b[0;34m(\u001b[0m\u001b[0;34m*\u001b[0m\u001b[0margs\u001b[0m\u001b[0;34m,\u001b[0m \u001b[0;34m**\u001b[0m\u001b[0mkwargs\u001b[0m\u001b[0;34m)\u001b[0m  \u001b[0;31m# type: ignore[misc]\u001b[0m\u001b[0;34m\u001b[0m\u001b[0;34m\u001b[0m\u001b[0m\n\u001b[1;32m   1738\u001b[0m         \u001b[0;32melse\u001b[0m\u001b[0;34m:\u001b[0m\u001b[0;34m\u001b[0m\u001b[0;34m\u001b[0m\u001b[0m\n\u001b[0;32m-> 1739\u001b[0;31m             \u001b[0;32mreturn\u001b[0m \u001b[0mself\u001b[0m\u001b[0;34m.\u001b[0m\u001b[0m_call_impl\u001b[0m\u001b[0;34m(\u001b[0m\u001b[0;34m*\u001b[0m\u001b[0margs\u001b[0m\u001b[0;34m,\u001b[0m \u001b[0;34m**\u001b[0m\u001b[0mkwargs\u001b[0m\u001b[0;34m)\u001b[0m\u001b[0;34m\u001b[0m\u001b[0;34m\u001b[0m\u001b[0m\n\u001b[0m\u001b[1;32m   1740\u001b[0m \u001b[0;34m\u001b[0m\u001b[0m\n\u001b[1;32m   1741\u001b[0m     \u001b[0;31m# torchrec tests the code consistency with the following code\u001b[0m\u001b[0;34m\u001b[0m\u001b[0;34m\u001b[0m\u001b[0m\n",
            "\u001b[0;32m/usr/local/lib/python3.11/dist-packages/torch/nn/modules/module.py\u001b[0m in \u001b[0;36m_call_impl\u001b[0;34m(self, *args, **kwargs)\u001b[0m\n\u001b[1;32m   1748\u001b[0m                 \u001b[0;32mor\u001b[0m \u001b[0m_global_backward_pre_hooks\u001b[0m \u001b[0;32mor\u001b[0m \u001b[0m_global_backward_hooks\u001b[0m\u001b[0;34m\u001b[0m\u001b[0;34m\u001b[0m\u001b[0m\n\u001b[1;32m   1749\u001b[0m                 or _global_forward_hooks or _global_forward_pre_hooks):\n\u001b[0;32m-> 1750\u001b[0;31m             \u001b[0;32mreturn\u001b[0m \u001b[0mforward_call\u001b[0m\u001b[0;34m(\u001b[0m\u001b[0;34m*\u001b[0m\u001b[0margs\u001b[0m\u001b[0;34m,\u001b[0m \u001b[0;34m**\u001b[0m\u001b[0mkwargs\u001b[0m\u001b[0;34m)\u001b[0m\u001b[0;34m\u001b[0m\u001b[0;34m\u001b[0m\u001b[0m\n\u001b[0m\u001b[1;32m   1751\u001b[0m \u001b[0;34m\u001b[0m\u001b[0m\n\u001b[1;32m   1752\u001b[0m         \u001b[0mresult\u001b[0m \u001b[0;34m=\u001b[0m \u001b[0;32mNone\u001b[0m\u001b[0;34m\u001b[0m\u001b[0;34m\u001b[0m\u001b[0m\n",
            "\u001b[0;32m/usr/local/lib/python3.11/dist-packages/torch/nn/modules/loss.py\u001b[0m in \u001b[0;36mforward\u001b[0;34m(self, input, target)\u001b[0m\n\u001b[1;32m    608\u001b[0m \u001b[0;34m\u001b[0m\u001b[0m\n\u001b[1;32m    609\u001b[0m     \u001b[0;32mdef\u001b[0m \u001b[0mforward\u001b[0m\u001b[0;34m(\u001b[0m\u001b[0mself\u001b[0m\u001b[0;34m,\u001b[0m \u001b[0minput\u001b[0m\u001b[0;34m:\u001b[0m \u001b[0mTensor\u001b[0m\u001b[0;34m,\u001b[0m \u001b[0mtarget\u001b[0m\u001b[0;34m:\u001b[0m \u001b[0mTensor\u001b[0m\u001b[0;34m)\u001b[0m \u001b[0;34m->\u001b[0m \u001b[0mTensor\u001b[0m\u001b[0;34m:\u001b[0m\u001b[0;34m\u001b[0m\u001b[0;34m\u001b[0m\u001b[0m\n\u001b[0;32m--> 610\u001b[0;31m         \u001b[0;32mreturn\u001b[0m \u001b[0mF\u001b[0m\u001b[0;34m.\u001b[0m\u001b[0mmse_loss\u001b[0m\u001b[0;34m(\u001b[0m\u001b[0minput\u001b[0m\u001b[0;34m,\u001b[0m \u001b[0mtarget\u001b[0m\u001b[0;34m,\u001b[0m \u001b[0mreduction\u001b[0m\u001b[0;34m=\u001b[0m\u001b[0mself\u001b[0m\u001b[0;34m.\u001b[0m\u001b[0mreduction\u001b[0m\u001b[0;34m)\u001b[0m\u001b[0;34m\u001b[0m\u001b[0;34m\u001b[0m\u001b[0m\n\u001b[0m\u001b[1;32m    611\u001b[0m \u001b[0;34m\u001b[0m\u001b[0m\n\u001b[1;32m    612\u001b[0m \u001b[0;34m\u001b[0m\u001b[0m\n",
            "\u001b[0;32m/usr/local/lib/python3.11/dist-packages/torch/nn/functional.py\u001b[0m in \u001b[0;36mmse_loss\u001b[0;34m(input, target, size_average, reduce, reduction, weight)\u001b[0m\n\u001b[1;32m   3882\u001b[0m         \u001b[0mreduction\u001b[0m \u001b[0;34m=\u001b[0m \u001b[0m_Reduction\u001b[0m\u001b[0;34m.\u001b[0m\u001b[0mlegacy_get_string\u001b[0m\u001b[0;34m(\u001b[0m\u001b[0msize_average\u001b[0m\u001b[0;34m,\u001b[0m \u001b[0mreduce\u001b[0m\u001b[0;34m)\u001b[0m\u001b[0;34m\u001b[0m\u001b[0;34m\u001b[0m\u001b[0m\n\u001b[1;32m   3883\u001b[0m \u001b[0;34m\u001b[0m\u001b[0m\n\u001b[0;32m-> 3884\u001b[0;31m     \u001b[0mexpanded_input\u001b[0m\u001b[0;34m,\u001b[0m \u001b[0mexpanded_target\u001b[0m \u001b[0;34m=\u001b[0m \u001b[0mtorch\u001b[0m\u001b[0;34m.\u001b[0m\u001b[0mbroadcast_tensors\u001b[0m\u001b[0;34m(\u001b[0m\u001b[0minput\u001b[0m\u001b[0;34m,\u001b[0m \u001b[0mtarget\u001b[0m\u001b[0;34m)\u001b[0m\u001b[0;34m\u001b[0m\u001b[0;34m\u001b[0m\u001b[0m\n\u001b[0m\u001b[1;32m   3885\u001b[0m \u001b[0;34m\u001b[0m\u001b[0m\n\u001b[1;32m   3886\u001b[0m     \u001b[0;32mif\u001b[0m \u001b[0mweight\u001b[0m \u001b[0;32mis\u001b[0m \u001b[0;32mnot\u001b[0m \u001b[0;32mNone\u001b[0m\u001b[0;34m:\u001b[0m\u001b[0;34m\u001b[0m\u001b[0;34m\u001b[0m\u001b[0m\n",
            "\u001b[0;32m/usr/local/lib/python3.11/dist-packages/torch/functional.py\u001b[0m in \u001b[0;36mbroadcast_tensors\u001b[0;34m(*tensors)\u001b[0m\n\u001b[1;32m     74\u001b[0m     \u001b[0;32mif\u001b[0m \u001b[0mhas_torch_function\u001b[0m\u001b[0;34m(\u001b[0m\u001b[0mtensors\u001b[0m\u001b[0;34m)\u001b[0m\u001b[0;34m:\u001b[0m\u001b[0;34m\u001b[0m\u001b[0;34m\u001b[0m\u001b[0m\n\u001b[1;32m     75\u001b[0m         \u001b[0;32mreturn\u001b[0m \u001b[0mhandle_torch_function\u001b[0m\u001b[0;34m(\u001b[0m\u001b[0mbroadcast_tensors\u001b[0m\u001b[0;34m,\u001b[0m \u001b[0mtensors\u001b[0m\u001b[0;34m,\u001b[0m \u001b[0;34m*\u001b[0m\u001b[0mtensors\u001b[0m\u001b[0;34m)\u001b[0m\u001b[0;34m\u001b[0m\u001b[0;34m\u001b[0m\u001b[0m\n\u001b[0;32m---> 76\u001b[0;31m     \u001b[0;32mreturn\u001b[0m \u001b[0m_VF\u001b[0m\u001b[0;34m.\u001b[0m\u001b[0mbroadcast_tensors\u001b[0m\u001b[0;34m(\u001b[0m\u001b[0mtensors\u001b[0m\u001b[0;34m)\u001b[0m  \u001b[0;31m# type: ignore[attr-defined]\u001b[0m\u001b[0;34m\u001b[0m\u001b[0;34m\u001b[0m\u001b[0m\n\u001b[0m\u001b[1;32m     77\u001b[0m \u001b[0;34m\u001b[0m\u001b[0m\n\u001b[1;32m     78\u001b[0m \u001b[0;34m\u001b[0m\u001b[0m\n",
            "\u001b[0;31mRuntimeError\u001b[0m: The size of tensor a (6) must match the size of tensor b (5) at non-singleton dimension 1"
          ]
        }
      ]
    },
    {
      "cell_type": "code",
      "source": [
        "\n",
        "model = forecast_LSTM()\n",
        "epochs = 80\n",
        "criterion =  nn.MSELoss()\n",
        "early_stopper = EarlyStopping(patience=7,window=5)\n",
        "optimizer = torch.optim.Adam(model.parameters(),lr=0.005)\n",
        "scheduler = torch.optim.lr_scheduler.ReduceLROnPlateau(optimizer, mode='min', patience=3, factor=0.5, verbose=True)\n",
        "best_model = None\n",
        "best_val_loss = np.inf#Returns a floating point infinity\n",
        "\n",
        "for epoch in range(epochs):\n",
        "  model.train()\n",
        "  epoch_loss = 0\n",
        "  for X_train,y_train in train_loader:\n",
        "    optimizer.zero_grad()\n",
        "    y_pred = model(X_train)\n",
        "    y_pred.shape,y_train.shape\n",
        "    loss = criterion(y_pred,y_train)\n",
        "    loss.backward()\n",
        "    optimizer.step()\n",
        "    epoch_loss += loss.item()\n",
        "  epoch_loss /= len(train_loader)\n",
        "\n",
        "  if (epoch+1)%5 ==0:\n",
        "    print(f'Epoch: {epoch+1}, Loss: {loss.item()}')\n",
        "\n",
        "\n",
        "  model.eval()\n",
        "  with torch.no_grad():\n",
        "    val_loss = 0\n",
        "    for X_val,y_val in val_loader:\n",
        "      y_val_pred = model(X_val)\n",
        "      loss = criterion(y_val_pred,y_val)\n",
        "      val_loss += loss.item()\n",
        "    val_loss /= len(val_loader)\n",
        "    scheduler.step(val_loss)\n",
        "    if val_loss < best_val_loss:\n",
        "      best_val_loss = val_loss\n",
        "      best_model = model\n",
        "\n",
        "    if early_stopper.early_stop:\n",
        "      print(f\"Early stopping at epoch {epoch+1}\")\n",
        "      break\n",
        "\n",
        "\n",
        "\n",
        "\n",
        "\n"
      ],
      "metadata": {
        "colab": {
          "base_uri": "https://localhost:8080/"
        },
        "id": "kTICss_-sKg0",
        "outputId": "a5c5f067-6100-4c31-ddc6-802dba217d00"
      },
      "execution_count": null,
      "outputs": [
        {
          "output_type": "stream",
          "name": "stderr",
          "text": [
            "/usr/local/lib/python3.11/dist-packages/torch/optim/lr_scheduler.py:62: UserWarning: The verbose parameter is deprecated. Please use get_last_lr() to access the learning rate.\n",
            "  warnings.warn(\n"
          ]
        },
        {
          "output_type": "stream",
          "name": "stdout",
          "text": [
            "Epoch: 5, Loss: 0.007990779355168343\n",
            "Epoch: 10, Loss: 0.006820014212280512\n",
            "Epoch: 15, Loss: 0.005382935982197523\n",
            "Epoch: 20, Loss: 0.004877428524196148\n",
            "Epoch: 25, Loss: 0.004798992536962032\n"
          ]
        }
      ]
    },
    {
      "cell_type": "code",
      "source": [
        "model = best_model\n",
        "\n",
        "for epoch in range(20):\n",
        "  model.train()\n",
        "  epoch_loss = 0\n",
        "  for X_train,y_train in train_loader:\n",
        "    optimizer.zero_grad()\n",
        "    y_pred = model(X_train)\n",
        "    y_pred.shape,y_train.shape\n",
        "    loss = criterion(y_pred,y_train)\n",
        "    loss.backward()\n",
        "    optimizer.step()\n",
        "    epoch_loss += loss.item()\n",
        "  epoch_loss /= len(train_loader)\n",
        "\n",
        "  if (epoch+1)%5 ==0:\n",
        "    print(f'Epoch: {epoch+1}, Loss: {loss.item()}')\n",
        "\n",
        "\n",
        "  model.eval()\n",
        "  with torch.no_grad():\n",
        "    val_loss = 0\n",
        "    for X_val,y_val in val_loader:\n",
        "      y_val_pred = model(X_val)\n",
        "      loss = criterion(y_val_pred,y_val)\n",
        "      val_loss += loss.item()\n",
        "    val_loss /= len(val_loader)\n",
        "    scheduler.step(val_loss)\n",
        "    if val_loss < best_val_loss:\n",
        "      best_val_loss = val_loss\n",
        "      best_model = model\n",
        "\n",
        "    if early_stopper.early_stop:\n",
        "      print(f\"Early stopping at epoch {epoch+1}\")\n",
        "      break\n",
        "\n"
      ],
      "metadata": {
        "colab": {
          "base_uri": "https://localhost:8080/"
        },
        "id": "kt4OJUJnNqsQ",
        "outputId": "7d812a0b-8cfa-451d-93ac-816ba6c0c530"
      },
      "execution_count": null,
      "outputs": [
        {
          "output_type": "stream",
          "name": "stdout",
          "text": [
            "Epoch: 5, Loss: 0.0014864911790937185\n",
            "Epoch: 10, Loss: 0.0014865424018353224\n",
            "Epoch: 15, Loss: 0.0014865818666294217\n",
            "Epoch: 20, Loss: 0.0014866138808429241\n"
          ]
        }
      ]
    },
    {
      "cell_type": "code",
      "source": [
        "from sklearn.metrics import r2_score\n",
        "best_model.eval()\n",
        "with torch.no_grad():\n",
        "  losses = []\n",
        "  for X_test,y_test in test_loader:\n",
        "    y_test_pred = best_model(X_test)\n",
        "    loss = criterion(y_test_pred,y_test)\n",
        "    losses.append(loss.item())\n",
        "    print(f'Test Loss: {loss.item()}')\n",
        "\n",
        "  print(f'Average Test Loss: {np.mean(losses)}')\n",
        "\n",
        "# Flatten over time and batch for R²\n",
        "y_true_flat = y_test.numpy().reshape(-1, y_test.shape[-1])\n",
        "y_pred_flat = y_test_pred.numpy().reshape(-1, y_test_pred.shape[-1])\n",
        "\n",
        "# Compute R² separately for each feature\n",
        "r2_ap = r2_score(y_true_flat[:, 0], y_pred_flat[:, 0])   # Air Pressure\n",
        "#r2_ws = r2_score(y_true_flat[:, 1], y_pred_flat[:, 1])   # Wind Speed\n",
        "\n",
        "print(f\"R² for Air Pressure: {r2_ap:.4f}\")\n",
        "#print(f\"R² for Wind Speed: {r2_ws:.4f}\")"
      ],
      "metadata": {
        "colab": {
          "base_uri": "https://localhost:8080/"
        },
        "id": "gYC_ylk3_g_d",
        "outputId": "01ff3e68-2244-4586-bf4f-510733eeff31"
      },
      "execution_count": 9,
      "outputs": [
        {
          "output_type": "stream",
          "name": "stdout",
          "text": [
            "Test Loss: 0.012006877921521664\n",
            "Test Loss: 0.018223658204078674\n",
            "Test Loss: 0.008783137425780296\n",
            "Test Loss: 0.0030948612838983536\n",
            "Test Loss: 0.004273762460798025\n",
            "Test Loss: 0.008532656356692314\n",
            "Test Loss: 0.01596764102578163\n",
            "Test Loss: 0.004525411874055862\n",
            "Test Loss: 0.0023316636215895414\n",
            "Test Loss: 0.012183508835732937\n",
            "Test Loss: 0.04282059893012047\n",
            "Test Loss: 0.00804581493139267\n",
            "Test Loss: 0.01240380760282278\n",
            "Test Loss: 0.00673582311719656\n",
            "Test Loss: 0.005337245762348175\n",
            "Test Loss: 0.011567529290914536\n",
            "Test Loss: 0.0025534096639603376\n",
            "Test Loss: 0.003388953860849142\n",
            "Test Loss: 0.0012954726116731763\n",
            "Test Loss: 0.002883349312469363\n",
            "Test Loss: 0.014260562136769295\n",
            "Test Loss: 0.004500934388488531\n",
            "Test Loss: 0.006744620390236378\n",
            "Test Loss: 0.0057890089228749275\n",
            "Test Loss: 0.005430153571069241\n",
            "Test Loss: 0.003644355107098818\n",
            "Test Loss: 0.006824019365012646\n",
            "Test Loss: 0.005203737411648035\n",
            "Test Loss: 0.01609174907207489\n",
            "Test Loss: 0.005988887045532465\n",
            "Test Loss: 0.00195694575086236\n",
            "Test Loss: 0.004968593828380108\n",
            "Test Loss: 0.0243418850004673\n",
            "Test Loss: 0.0032189390622079372\n",
            "Test Loss: 0.004386946093291044\n",
            "Test Loss: 0.02647968754172325\n",
            "Test Loss: 0.014904049225151539\n",
            "Test Loss: 0.009516991674900055\n",
            "Test Loss: 0.016357138752937317\n",
            "Test Loss: 0.005976841785013676\n",
            "Test Loss: 0.007988165132701397\n",
            "Test Loss: 0.003979949280619621\n",
            "Test Loss: 0.00632734689861536\n",
            "Test Loss: 0.005624215584248304\n",
            "Test Loss: 0.0047218455001711845\n",
            "Test Loss: 0.002849340671673417\n",
            "Test Loss: 0.0022816990967839956\n",
            "Test Loss: 0.005556842777878046\n",
            "Test Loss: 0.008922915905714035\n",
            "Test Loss: 0.0047841379418969154\n",
            "Test Loss: 0.003596764523535967\n",
            "Test Loss: 0.004416762851178646\n",
            "Test Loss: 0.004280988126993179\n",
            "Test Loss: 0.005957233719527721\n",
            "Test Loss: 0.004808071069419384\n",
            "Test Loss: 0.004878607112914324\n",
            "Test Loss: 0.014156443066895008\n",
            "Test Loss: 0.003148295683786273\n",
            "Test Loss: 0.0025955429300665855\n",
            "Test Loss: 0.0028757459949702024\n",
            "Test Loss: 0.010072327218949795\n",
            "Test Loss: 0.005148542113602161\n",
            "Test Loss: 0.01012713648378849\n",
            "Test Loss: 0.008408820256590843\n",
            "Test Loss: 0.007439684122800827\n",
            "Test Loss: 0.007362996693700552\n",
            "Test Loss: 0.002698831958696246\n",
            "Test Loss: 0.0038120050448924303\n",
            "Test Loss: 0.005316984839737415\n",
            "Test Loss: 0.00443283561617136\n",
            "Test Loss: 0.008083839900791645\n",
            "Test Loss: 0.0046685924753546715\n",
            "Test Loss: 0.006250789854675531\n",
            "Test Loss: 0.010447675362229347\n",
            "Test Loss: 0.0074745467863976955\n",
            "Test Loss: 0.008125456050038338\n",
            "Test Loss: 0.006851659156382084\n",
            "Test Loss: 0.012978687882423401\n",
            "Test Loss: 0.009357454255223274\n",
            "Test Loss: 0.00630604475736618\n",
            "Test Loss: 0.004625069908797741\n",
            "Test Loss: 0.0036393231712281704\n",
            "Test Loss: 0.006050199270248413\n",
            "Test Loss: 0.006333670578896999\n",
            "Test Loss: 0.005241951905190945\n",
            "Test Loss: 0.007764391601085663\n",
            "Test Loss: 0.005996561609208584\n",
            "Test Loss: 0.001861262135207653\n",
            "Test Loss: 0.002524683717638254\n",
            "Test Loss: 0.0054716384038329124\n",
            "Test Loss: 0.003725411370396614\n",
            "Test Loss: 0.0036610804963856936\n",
            "Test Loss: 0.003813105868175626\n",
            "Test Loss: 0.005938532762229443\n",
            "Test Loss: 0.0030580530874431133\n",
            "Test Loss: 0.0036662165075540543\n",
            "Test Loss: 0.002148278756067157\n",
            "Test Loss: 0.002143786521628499\n",
            "Test Loss: 0.0021901398431509733\n",
            "Test Loss: 0.0042878263629972935\n",
            "Test Loss: 0.0015366498846560717\n",
            "Test Loss: 0.005457800813019276\n",
            "Test Loss: 0.002207808196544647\n",
            "Test Loss: 0.0023523683194071054\n",
            "Test Loss: 0.004416740499436855\n",
            "Test Loss: 0.0014840287622064352\n",
            "Test Loss: 0.003893749788403511\n",
            "Test Loss: 0.0034240991808474064\n",
            "Test Loss: 0.004028688184916973\n",
            "Test Loss: 0.004961262922734022\n",
            "Test Loss: 0.005728386342525482\n",
            "Test Loss: 0.002751817461103201\n",
            "Test Loss: 0.004013327416032553\n",
            "Test Loss: 0.002533993450924754\n",
            "Test Loss: 0.005245200823992491\n",
            "Test Loss: 0.00703007448464632\n",
            "Test Loss: 0.011444359086453915\n",
            "Test Loss: 0.004111072979867458\n",
            "Test Loss: 0.001920097740367055\n",
            "Test Loss: 0.0034166492987424135\n",
            "Test Loss: 0.0035237488336861134\n",
            "Test Loss: 0.006744584534317255\n",
            "Test Loss: 0.007564213126897812\n",
            "Test Loss: 0.0054663363844156265\n",
            "Test Loss: 0.0033403299748897552\n",
            "Test Loss: 0.003965080715715885\n",
            "Test Loss: 0.002966994885355234\n",
            "Test Loss: 0.003431332530453801\n",
            "Test Loss: 0.002259249798953533\n",
            "Test Loss: 0.001914794323965907\n",
            "Test Loss: 0.003553790273144841\n",
            "Test Loss: 0.0047549293376505375\n",
            "Test Loss: 0.007185353431850672\n",
            "Test Loss: 0.007929650135338306\n",
            "Test Loss: 0.002778185997158289\n",
            "Test Loss: 0.005185413174331188\n",
            "Test Loss: 0.004268486984074116\n",
            "Test Loss: 0.003474954515695572\n",
            "Test Loss: 0.002207983983680606\n",
            "Average Test Loss: 0.0062681426429826255\n",
            "R² for Air Pressure: 0.6800\n"
          ]
        }
      ]
    },
    {
      "cell_type": "code",
      "source": [
        "torch.save(best_model.state_dict(),'Parameters_combined.pt')"
      ],
      "metadata": {
        "id": "sRSocLWONi7M"
      },
      "execution_count": 10,
      "outputs": []
    },
    {
      "cell_type": "code",
      "source": [
        "def recursive_forecast(model,initial_seq,steps_ahead,lookback,scaler,horizon=5):\n",
        "  model.eval()\n",
        "  predictions = []\n",
        "  curr_input = initial_seq.copy()\n",
        "  with torch.no_grad():\n",
        "    while len(predictions)*horizon < steps_ahead:\n",
        "      input_tensor = torch.tensor(curr_input).unsqueeze(0).float()\n",
        "      forecast = model(input_tensor).squeeze(0).numpy()#Model output: 1,horizon,features --> horizon,features\n",
        "      predictions.append(forecast)\n",
        "      curr_input = np.vstack([curr_input,forecast])#Shape: (lookback+horizon,features)\n",
        "      curr_input = curr_input[-lookback:]#Keeps only the latest 'lookback' number of rows\n",
        "\n",
        "    predictions = np.vstack(predictions)[:steps_ahead]#Combines all forecast blocks into one array and cuts to exactly steps_ahead\n",
        "    predictions_actual = scaler.inverse_transform(predictions)#Reverses the MinMax Scaling to give it in acatual units\n",
        "    return predictions_actual\n",
        "\n",
        "\n"
      ],
      "metadata": {
        "id": "tatjK9E-U7VF"
      },
      "execution_count": null,
      "outputs": []
    },
    {
      "cell_type": "code",
      "source": [
        "initial_seq = test_scaled[-lookback:]  # use last known real sequence\n",
        "\n",
        "# Predict next 3 months\n",
        "steps_ahead = 720  # 90 days * 24 hours\n",
        "future_forecast = recursive_forecast(best_model, initial_seq, steps_ahead, lookback, scaler, horizon=horizon)\n",
        "\n",
        "# Create future datetime index\n",
        "\n",
        "\n",
        "\n",
        "last_date = df['date'].iloc[-1]  # this will now be a datetime\n",
        "print(last_date)\n",
        "future_dates = pd.date_range(start=last_date + pd.Timedelta(hours=1), periods=steps_ahead, freq='h')\n",
        "\n",
        "\n",
        "# Convert forecast to dataframe\n",
        "future_forecast_df = pd.DataFrame(future_forecast, columns=['ap', 'ws'], index=future_dates)\n"
      ],
      "metadata": {
        "colab": {
          "base_uri": "https://localhost:8080/"
        },
        "id": "BizCpOeDycDI",
        "outputId": "014d9708-2bc2-4dfb-eb0a-fef5e35fe88b"
      },
      "execution_count": null,
      "outputs": [
        {
          "output_type": "stream",
          "name": "stdout",
          "text": [
            "2021-02-04 23:00:00\n"
          ]
        }
      ]
    },
    {
      "cell_type": "code",
      "source": [
        "plt.figure(figsize=(10,6))\n",
        "plt.plot(future_forecast_df.index,future_forecast_df['ap'],label='Air Pressure')\n",
        "plt.legend()\n",
        "plt.savefig('air_pressure.png')\n",
        "plt.show()"
      ],
      "metadata": {
        "colab": {
          "base_uri": "https://localhost:8080/",
          "height": 522
        },
        "id": "3DfHG_u70CnV",
        "outputId": "bb2461f9-f2f8-4593-d67d-082db366d3d2"
      },
      "execution_count": null,
      "outputs": [
        {
          "output_type": "display_data",
          "data": {
            "text/plain": [
              "<Figure size 1000x600 with 1 Axes>"
            ],
            "image/png": "[encoded data removed]"
          },
          "metadata": {}
        }
      ]
    },
    {
      "cell_type": "code",
      "source": [
        "plt.figure(figsize=(10,6))\n",
        "plt.plot(future_forecast_df.index,future_forecast_df['ws'],label='Wind Speed')\n",
        "plt.legend()\n",
        "plt.savefig('ws.png')\n",
        "plt.show\n"
      ],
      "metadata": {
        "colab": {
          "base_uri": "https://localhost:8080/",
          "height": 696
        },
        "id": "isiaFPGz00ri",
        "outputId": "800ff572-d311-4b39-8bfd-f6bc898a3c66"
      },
      "execution_count": null,
      "outputs": [
        {
          "output_type": "execute_result",
          "data": {
            "text/plain": [
              "<function matplotlib.pyplot.show(close=None, block=None)>"
            ],
            "text/html": [
              "<div style=\"max-width:800px; border: 1px solid var(--colab-border-color);\"><style>\n",
              "      pre.function-repr-contents {\n",
              "        overflow-x: auto;\n",
              "        padding: 8px 12px;\n",
              "        max-height: 500px;\n",
              "      }\n",
              "\n",
              "      pre.function-repr-contents.function-repr-contents-collapsed {\n",
              "        cursor: pointer;\n",
              "        max-height: 100px;\n",
              "      }\n",
              "    </style>\n",
              "    <pre style=\"white-space: initial; background:\n",
              "         var(--colab-secondary-surface-color); padding: 8px 12px;\n",
              "         border-bottom: 1px solid var(--colab-border-color);\"><b>matplotlib.pyplot.show</b><br/>def show(*args, **kwargs) -&gt; None</pre><pre class=\"function-repr-contents function-repr-contents-collapsed\" style=\"\"><a class=\"filepath\" style=\"display:none\" href=\"#\">/usr/local/lib/python3.11/dist-packages/matplotlib/pyplot.py</a>Display all open figures.\n",
              "\n",
              "Parameters\n",
              "----------\n",
              "block : bool, optional\n",
              "    Whether to wait for all figures to be closed before returning.\n",
              "\n",
              "    If `True` block and run the GUI main loop until all figure windows\n",
              "    are closed.\n",
              "\n",
              "    If `False` ensure that all figure windows are displayed and return\n",
              "    immediately.  In this case, you are responsible for ensuring\n",
              "    that the event loop is running to have responsive figures.\n",
              "\n",
              "    Defaults to True in non-interactive mode and to False in interactive\n",
              "    mode (see `.pyplot.isinteractive`).\n",
              "\n",
              "See Also\n",
              "--------\n",
              "ion : Enable interactive mode, which shows / updates the figure after\n",
              "      every plotting command, so that calling ``show()`` is not necessary.\n",
              "ioff : Disable interactive mode.\n",
              "savefig : Save the figure to an image file instead of showing it on screen.\n",
              "\n",
              "Notes\n",
              "-----\n",
              "**Saving figures to file and showing a window at the same time**\n",
              "\n",
              "If you want an image file as well as a user interface window, use\n",
              "`.pyplot.savefig` before `.pyplot.show`. At the end of (a blocking)\n",
              "``show()`` the figure is closed and thus unregistered from pyplot. Calling\n",
              "`.pyplot.savefig` afterwards would save a new and thus empty figure. This\n",
              "limitation of command order does not apply if the show is non-blocking or\n",
              "if you keep a reference to the figure and use `.Figure.savefig`.\n",
              "\n",
              "**Auto-show in jupyter notebooks**\n",
              "\n",
              "The jupyter backends (activated via ``%matplotlib inline``,\n",
              "``%matplotlib notebook``, or ``%matplotlib widget``), call ``show()`` at\n",
              "the end of every cell by default. Thus, you usually don&#x27;t have to call it\n",
              "explicitly there.</pre>\n",
              "      <script>\n",
              "      if (google.colab.kernel.accessAllowed && google.colab.files && google.colab.files.view) {\n",
              "        for (const element of document.querySelectorAll('.filepath')) {\n",
              "          element.style.display = 'block'\n",
              "          element.onclick = (event) => {\n",
              "            event.preventDefault();\n",
              "            event.stopPropagation();\n",
              "            google.colab.files.view(element.textContent, 569);\n",
              "          };\n",
              "        }\n",
              "      }\n",
              "      for (const element of document.querySelectorAll('.function-repr-contents')) {\n",
              "        element.onclick = (event) => {\n",
              "          event.preventDefault();\n",
              "          event.stopPropagation();\n",
              "          element.classList.toggle('function-repr-contents-collapsed');\n",
              "        };\n",
              "      }\n",
              "      </script>\n",
              "      </div>"
            ]
          },
          "metadata": {},
          "execution_count": 31
        },
        {
          "output_type": "display_data",
          "data": {
            "text/plain": [
              "<Figure size 1000x600 with 1 Axes>"
            ],
            "image/png": "[encoded data removed]"
          },
          "metadata": {}
        }
      ]
    },
    {
      "cell_type": "markdown",
      "source": [],
      "metadata": {
        "id": "AwWpbgGEymok"
      }
    }
  ]
}